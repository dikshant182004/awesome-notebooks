{
 "cells": [
  {
   "cell_type": "markdown",
   "id": "284bd33f-9e48-469d-9381-929740b02c2f",
   "metadata": {
    "papermill": {},
    "tags": []
   },
   "source": [
    "<img width=\"10%\" alt=\"Naas\" src=\"https://landen.imgix.net/jtci2pxwjczr/assets/5ice39g4.png?w=160\"/>"
   ]
  },
  {
   "cell_type": "markdown",
   "id": "21a7d680-fa83-4cd5-b0b8-35cf7b50c09d",
   "metadata": {
    "papermill": {},
    "tags": []
   },
   "source": [
    "# Azure Blob Storage - Download files in blob storage"
   ]
  },
  {
   "cell_type": "markdown",
   "id": "68aeb78f-c523-4126-98f2-25c1a3ef9acd",
   "metadata": {
    "papermill": {},
    "tags": []
   },
   "source": [
    "**Tags:** #azure #blobstorage #download #files #storage #python"
   ]
  },
  {
   "cell_type": "markdown",
   "id": "0b17ba0f-45c7-4b4b-98c6-2fd7316eed48",
   "metadata": {
    "papermill": {},
    "tags": []
   },
   "source": [
    "**Author:** [Alexandre Stevens](https://www.linkedin.com/in/alexandrestevenspbix/)"
   ]
  },
  {
   "cell_type": "markdown",
   "id": "a80f510a-3159-48a7-abe0-a784f856cd85",
   "metadata": {
    "papermill": {},
    "tags": []
   },
   "source": [
    "**Description:** This notebook will show how to download files from Azure Blob Storage using Python."
   ]
  },
  {
   "cell_type": "markdown",
   "id": "cf94f3f2-0ddb-4de0-85e2-09e56a5ebdb8",
   "metadata": {
    "papermill": {},
    "tags": []
   },
   "source": [
    "**References:**\n- [Azure Blob Storage Documentation](https://docs.microsoft.com/en-us/azure/storage/blobs/storage-quickstart-blobs-python)\n- [Azure Blob Storage Python SDK](https://pypi.org/project/azure-storage-blob/)"
   ]
  },
  {
   "cell_type": "markdown",
   "id": "78a14bd9-5695-4ea4-96b5-dbc6862b0d39",
   "metadata": {
    "papermill": {},
    "tags": []
   },
   "source": [
    "## Input"
   ]
  },
  {
   "cell_type": "markdown",
   "id": "a0fa7bee-f54b-4fc2-9e8a-ace5438a9106",
   "metadata": {
    "papermill": {},
    "tags": []
   },
   "source": [
    "### Import libraries"
   ]
  },
  {
   "cell_type": "code",
   "execution_count": null,
   "id": "a4aed506-e9ee-4b1b-ac81-538df4e20f31",
   "metadata": {
    "papermill": {},
    "tags": []
   },
   "source": "from azure.storage.blob import BlobServiceClient",
   "outputs": []
  },
  {
   "cell_type": "markdown",
   "id": "ff2dfd82-6956-4903-8bf2-82d3c5e0c207",
   "metadata": {
    "papermill": {},
    "tags": []
   },
   "source": [
    "### Setup Variables\n- **blob_service_client**: BlobServiceClient object to access the Blob Storage\n- **container_name**: Name of the container in the Blob Storage\n- **blob_name**: Name of the file to download\n- **local_file_name**: Name of the file to download"
   ]
  },
  {
   "cell_type": "code",
   "execution_count": null,
   "id": "36bc5d63-53e2-4d6f-b5fe-5332c8697582",
   "metadata": {
    "papermill": {},
    "tags": []
   },
   "source": "blob_service_client = BlobServiceClient.from_connection_string(\"<connection_string>\")\ncontainer_name = \"<container_name>\"\nblob_name = \"<blob_name>\"\nlocal_file_name = \"<local_file_name>\"",
   "outputs": []
  },
  {
   "cell_type": "markdown",
   "id": "96f9d866-6d7c-4db6-b32d-6628ca881297",
   "metadata": {
    "papermill": {},
    "tags": []
   },
   "source": [
    "## Model"
   ]
  },
  {
   "cell_type": "markdown",
   "id": "04b353a8-6990-4dc4-9d5e-951b181fc4e8",
   "metadata": {
    "papermill": {},
    "tags": []
   },
   "source": [
    "### Download file from Blob Storage"
   ]
  },
  {
   "cell_type": "markdown",
   "id": "e6b35fa1-9cee-4d49-b45f-6a9154dbc22a",
   "metadata": {
    "papermill": {},
    "tags": []
   },
   "source": [
    "Download the file from the Blob Storage to the local file system."
   ]
  },
  {
   "cell_type": "code",
   "execution_count": null,
   "id": "8fed65f7-4f2d-4127-a751-936a55c36f28",
   "metadata": {
    "papermill": {},
    "tags": []
   },
   "source": "blob_client = blob_service_client.get_blob_client(\n    container=container_name, blob=blob_name\n)\nwith open(local_file_name, \"wb\") as download_file:\n    download_file.write(blob_client.download_blob().readall())",
   "outputs": []
  },
  {
   "cell_type": "markdown",
   "id": "a030313d-3c21-48a1-a799-8386a95c78bc",
   "metadata": {
    "papermill": {},
    "tags": []
   },
   "source": [
    "## Output"
   ]
  },
  {
   "cell_type": "markdown",
   "id": "52b54d3e-699b-43dc-b522-776995281875",
   "metadata": {
    "papermill": {},
    "tags": []
   },
   "source": [
    "### Display result"
   ]
  },
  {
   "cell_type": "markdown",
   "id": "7639c3df-345e-4e97-9968-f10a7ab94a0f",
   "metadata": {
    "papermill": {},
    "tags": []
   },
   "source": [
    "The file has been downloaded to the local file system."
   ]
  },
  {
   "cell_type": "markdown",
   "id": "11013b6f-4299-4fe1-99c7-043a04a15033",
   "metadata": {
    "papermill": {},
    "tags": []
   },
   "source": [
    " "
   ]
  },
  {
   "cell_type": "markdown",
   "id": "31b4331d-d846-4590-ae83-6ffc5ff8a8f5",
   "metadata": {
    "papermill": {},
    "tags": []
   },
   "source": [
    " "
   ]
  }
 ],
 "metadata": {
  "kernelspec": {
   "display_name": "Python 3",
   "language": "python",
   "name": "python3"
  },
  "language_info": {
   "codemirror_mode": {
    "name": "ipython",
    "version": 3
   },
   "file_extension": ".py",
   "mimetype": "text/x-python",
   "name": "python",
   "nbconvert_exporter": "python",
   "pygments_lexer": "ipython3",
   "version": "3.9.6"
  },
  "widgets": {
   "application/vnd.jupyter.widget-state+json": {
    "state": {},
    "version_major": 2,
    "version_minor": 0
   }
  }
 },
 "nbformat": 4,
 "nbformat_minor": 5
}