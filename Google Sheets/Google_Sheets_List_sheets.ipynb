{
 "cells": [
  {
   "cell_type": "markdown",
   "id": "452dfacb-76a4-4a8d-8888-bc736c6bf495",
   "metadata": {
    "papermill": {},
    "tags": []
   },
   "source": [
    "<img width=\"10%\" alt=\"Naas\" src=\"https://landen.imgix.net/jtci2pxwjczr/assets/5ice39g4.png?w=160\"/>"
   ]
  },
  {
   "cell_type": "markdown",
   "id": "f7385bdd-c5df-4978-ad11-d044839dfe22",
   "metadata": {
    "papermill": {},
    "tags": []
   },
   "source": [
    "# Google Sheets - List sheets"
   ]
  },
  {
   "cell_type": "markdown",
   "id": "802fd002-9a96-40ca-b556-fb3c9c0056ca",
   "metadata": {
    "papermill": {},
    "tags": []
   },
   "source": [
    "**Tags:** #googlesheets #spreadsheet #list #sheets #python #api"
   ]
  },
  {
   "cell_type": "markdown",
   "id": "f263c517-5643-4abd-85f7-4031790a2fc2",
   "metadata": {
    "papermill": {},
    "tags": []
   },
   "source": [
    "**Author:** [Firstname Lastname]()"
   ]
  },
  {
   "cell_type": "markdown",
   "id": "cdc5c1a5-b445-4251-8116-dfd595fa2914",
   "metadata": {
    "papermill": {},
    "tags": []
   },
   "source": [
    "**Last update:** 2023-10-05 (Created: 2023-10-05)"
   ]
  },
  {
   "cell_type": "markdown",
   "id": "0da5988f-99c9-4438-806a-4f39922ab385",
   "metadata": {
    "papermill": {},
    "tags": []
   },
   "source": [
    "**Description:** This notebook lists sheets from a spreadsheet URL. It is usefull for organizations to quickly access the sheets of a spreadsheet."
   ]
  },
  {
   "cell_type": "markdown",
   "id": "104fdf49-ff2d-493c-92be-34f9822d5302",
   "metadata": {
    "papermill": {},
    "tags": []
   },
   "source": [
    "**References:**\n- [Google Sheets API Documentation](https://developers.google.com/sheets/api/reference/rest/)\n- [Google Sheets API Python Quickstart](https://developers.google.com/sheets/api/quickstart/python)"
   ]
  },
  {
   "cell_type": "markdown",
   "id": "25bfbf11-0740-48c7-90b0-0f3717565704",
   "metadata": {
    "papermill": {},
    "tags": []
   },
   "source": [
    "## Input"
   ]
  },
  {
   "cell_type": "markdown",
   "id": "54fb8e32-0717-4998-97f3-aeab770dfaa8",
   "metadata": {
    "papermill": {},
    "tags": []
   },
   "source": [
    "### Import libraries"
   ]
  },
  {
   "cell_type": "code",
   "execution_count": null,
   "id": "848d8f59-f71f-4bc8-935d-8e1d95283692",
   "metadata": {
    "papermill": {},
    "tags": []
   },
   "source": "import gspread\nfrom oauth2client.service_account import ServiceAccountCredentials",
   "outputs": []
  },
  {
   "cell_type": "markdown",
   "id": "4c92349b-3db6-4a4f-b7d9-927ce4543df4",
   "metadata": {
    "papermill": {},
    "tags": []
   },
   "source": [
    "### Setup variables\n- **spreadsheet_url**: URL of the spreadsheet"
   ]
  },
  {
   "cell_type": "code",
   "execution_count": null,
   "id": "81853dae-6dab-4a5e-9af3-c8c9310f09c5",
   "metadata": {
    "papermill": {},
    "tags": []
   },
   "source": "spreadsheet_url = \"https://docs.google.com/spreadsheets/d/1BxiMVs0XRA5nFMdKvBdBZjgmUUqptlbs74OgvE2upms/edit#gid=0\"",
   "outputs": []
  },
  {
   "cell_type": "markdown",
   "id": "58750cd6-c339-40fb-9025-29dc29cdc8fe",
   "metadata": {
    "papermill": {},
    "tags": []
   },
   "source": [
    "## Model"
   ]
  },
  {
   "cell_type": "markdown",
   "id": "4674aea8-82c0-49ab-b514-5fc2e7d90641",
   "metadata": {
    "papermill": {},
    "tags": []
   },
   "source": [
    "### List sheets"
   ]
  },
  {
   "cell_type": "markdown",
   "id": "6341310d-740f-44ee-941a-71857a95be15",
   "metadata": {
    "papermill": {},
    "tags": []
   },
   "source": [
    "This function lists the sheets of a spreadsheet from its URL."
   ]
  },
  {
   "cell_type": "code",
   "execution_count": null,
   "id": "a0388cde-e6cf-4c1d-a46c-3e9559313046",
   "metadata": {
    "papermill": {},
    "tags": []
   },
   "source": "# use creds to create a client to interact with the Google Drive API\nscope = [\n    \"https://spreadsheets.google.com/feeds\",\n    \"https://www.googleapis.com/auth/drive\",\n]\ncreds = ServiceAccountCredentials.from_json_keyfile_name(\"client_secret.json\", scope)\nclient = gspread.authorize(creds)\n# Find a workbook by url\nspreadsheet = client.open_by_url(spreadsheet_url)\n# List sheets\nsheets = spreadsheet.worksheets()",
   "outputs": []
  },
  {
   "cell_type": "markdown",
   "id": "5516644a-c228-4a58-96c1-238c2a44f00e",
   "metadata": {
    "papermill": {},
    "tags": []
   },
   "source": [
    "## Output"
   ]
  },
  {
   "cell_type": "markdown",
   "id": "c0471f20-1097-4d6e-9851-51109be45a4e",
   "metadata": {
    "papermill": {},
    "tags": []
   },
   "source": [
    "### Display result"
   ]
  },
  {
   "cell_type": "code",
   "execution_count": null,
   "id": "11e1aade-d41b-4026-b5a4-156120d0901f",
   "metadata": {
    "papermill": {},
    "tags": []
   },
   "source": "for sheet in sheets:\n    print(sheet.title)",
   "outputs": []
  }
 ],
 "metadata": {
  "kernelspec": {
   "display_name": "Python 3",
   "language": "python",
   "name": "python3"
  },
  "language_info": {
   "codemirror_mode": {
    "name": "ipython",
    "version": 3
   },
   "file_extension": ".py",
   "mimetype": "text/x-python",
   "name": "python",
   "nbconvert_exporter": "python",
   "pygments_lexer": "ipython3",
   "version": "3.9.6"
  },
  "widgets": {
   "application/vnd.jupyter.widget-state+json": {
    "state": {},
    "version_major": 2,
    "version_minor": 0
   }
  }
 },
 "nbformat": 4,
 "nbformat_minor": 5
}